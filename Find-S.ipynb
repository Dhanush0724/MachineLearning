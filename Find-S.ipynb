{
 "cells": [
  {
   "cell_type": "code",
   "execution_count": 9,
   "id": "f06f80d9-2564-46c4-92f2-06df55fef98c",
   "metadata": {},
   "outputs": [
    {
     "name": "stdout",
     "output_type": "stream",
     "text": [
      "['Sky', 'AirTemp', 'Humidity', 'Wind', 'Water', 'Forecast', 'EnjoySport']\n",
      "[[\"sunny'\", \"warm'\", \"normal'\", \"strong'\", \"warm'\", \"same'\", 'TRUE'], [\"sunny'\", \"warm'\", \"high'\", \"strong'\", \"warm'\", \"same'\", 'TRUE'], [\"rainy'\", \"cold'\", \"high'\", \"strong'\", \"warm'\", \"change'\", 'FALSE'], [\"sunny'\", \"warm'\", \"high'\", \"strong'\", \"cool'\", \"change'\", 'TRUE']]\n"
     ]
    }
   ],
   "source": [
    "import csv\n",
    "\n",
    "with open('p_data.csv') as f:\n",
    "    reader = csv.reader(f)\n",
    "    headers = next(reader)  # Read the header row\n",
    "    your_list = list(reader)  # Read the rest of the file into a list\n",
    "\n",
    "print(headers)\n",
    "print(your_list)"
   ]
  },
  {
   "cell_type": "code",
   "execution_count": 15,
   "id": "ba93cc37-318b-41f7-adc3-b34be6dc7dca",
   "metadata": {},
   "outputs": [
    {
     "name": "stdout",
     "output_type": "stream",
     "text": [
      "[\"sunny'\", \"warm'\", \"normal'\", \"strong'\", \"warm'\", \"same'\", 'TRUE']\n",
      "[\"sunny'\", \"warm'\", \"high'\", \"strong'\", \"warm'\", \"same'\", 'TRUE']\n",
      "[\"rainy'\", \"cold'\", \"high'\", \"strong'\", \"warm'\", \"change'\", 'FALSE']\n",
      "[\"sunny'\", \"warm'\", \"high'\", \"strong'\", \"cool'\", \"change'\", 'TRUE']\n",
      "The maximally specific hypothesis for given training example is:\n",
      "[[\"sunny'\", \"warm'\", '?', \"strong'\", '?', '?']]\n"
     ]
    }
   ],
   "source": [
    "h = [['0', '0', '0', '0', '0', '0']]  # Initial hypothesis\n",
    "for i in your_list:\n",
    "    print(i)\n",
    "    if i[-1] == 'TRUE':  \n",
    "        j = 0\n",
    "        for x in i[:-1]:  \n",
    "            if x != 'TRUE':\n",
    "                if x != h[0][j] and h[0][j] == '0':\n",
    "                    h[0][j] = x  \n",
    "                elif x != h[0][j] and h[0][j] != '0':\n",
    "                    h[0][j] = '?' \n",
    "                \n",
    "            j += 1\n",
    "print(\"The maximally specific hypothesis for given training example is:\")\n",
    "print(h)\n"
   ]
  },
  {
   "cell_type": "code",
   "execution_count": null,
   "id": "d5ebc632-be36-4863-8290-a0a3f3147fe0",
   "metadata": {},
   "outputs": [],
   "source": []
  }
 ],
 "metadata": {
  "kernelspec": {
   "display_name": "Python 3 (ipykernel)",
   "language": "python",
   "name": "python3"
  },
  "language_info": {
   "codemirror_mode": {
    "name": "ipython",
    "version": 3
   },
   "file_extension": ".py",
   "mimetype": "text/x-python",
   "name": "python",
   "nbconvert_exporter": "python",
   "pygments_lexer": "ipython3",
   "version": "3.11.5"
  }
 },
 "nbformat": 4,
 "nbformat_minor": 5
}
